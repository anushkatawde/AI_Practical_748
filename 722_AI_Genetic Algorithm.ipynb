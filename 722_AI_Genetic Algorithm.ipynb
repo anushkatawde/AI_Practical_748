{
 "cells": [
  {
   "cell_type": "code",
   "execution_count": 1,
   "id": "98b32dab",
   "metadata": {},
   "outputs": [
    {
     "name": "stdout",
     "output_type": "stream",
     "text": [
      "Requirement already satisfied: deap in c:\\users\\mscit\\anaconda3\\lib\\site-packages (1.3.3)\n",
      "Requirement already satisfied: numpy in c:\\users\\mscit\\anaconda3\\lib\\site-packages (from deap) (1.20.3)\n",
      "[170]\n",
      "[170, 240]\n",
      "[170, 240, 85]\n",
      "[170, 240, 85, 15]\n",
      "[170, 240, 85, 15, 187]\n",
      "[170, 240, 85, 15, 187, 68]\n",
      "[170, 240, 85, 15, 187, 68, 231]\n",
      "[170, 240, 85, 15, 187, 68, 231, 0]\n"
     ]
    }
   ],
   "source": [
    "\"\"\"\n",
    "#implement Genetic Algorithm\n",
    "\"\"\"\n",
    "\n",
    "!pip install deap\n",
    "\n",
    "from deap import tools\n",
    "import random\n",
    "\n",
    "population=[\"10101010\",\"11110000\",\"01010101\",\"00001111\",\"10111011\",\"01000100\",\"11100111\",\"00000000\"]\n",
    "\n",
    "binary=[]\n",
    "for i in range(len(population)):\n",
    "    binary.append(int(population[i],2))\n",
    "    print(binary)\n",
    "\n"
   ]
  },
  {
   "cell_type": "code",
   "execution_count": 2,
   "id": "12cebcbe",
   "metadata": {},
   "outputs": [
    {
     "name": "stdout",
     "output_type": "stream",
     "text": [
      "Individual [ 0 ]:  10101010 \tFitness:  170\n",
      "Individual [ 1 ]:  11110000 \tFitness:  240\n",
      "Individual [ 2 ]:  01010101 \tFitness:  85\n",
      "Individual [ 3 ]:  00001111 \tFitness:  15\n",
      "Individual [ 4 ]:  10111011 \tFitness:  187\n",
      "Individual [ 5 ]:  01000100 \tFitness:  68\n",
      "Individual [ 6 ]:  11100111 \tFitness:  231\n",
      "Individual [ 7 ]:  00000000 \tFitness:  0\n"
     ]
    }
   ],
   "source": [
    "for i in range(len(population)):\n",
    "    print(\"Individual [\",i,\"]: \",population[i],\"\\tFitness: \",binary[i])\n",
    "    \n"
   ]
  },
  {
   "cell_type": "code",
   "execution_count": 7,
   "id": "147cf030",
   "metadata": {},
   "outputs": [],
   "source": [
    "def crossoverEP():\n",
    "    #selecting parents using function selRandom()\n",
    "    parents=tools.selection.selRandom(population,2)\n",
    "    print(\"Selected Indivisuals\\nParent 1: \",parents[0],\"\\tFitness:\",binary[population.index(parents[0])],\"\\nParent2: \",\n",
    "          parents[1],\"\\tFitness:\",binary[population.index(parents[1])],\"\\n\")\n",
    "    #creating children using cxOnePoint() function to perform one point crossover\n",
    "    children=list(tools.crossover.cxOnePoint(list(parents[0]),list(parents[1])))\n",
    "    \n",
    "    #cxOnePoint() returns character lists of two children converting them to string using.join() and calculating their fitness value using int()\n",
    "    \n",
    "    f_child1=int(\"\".join(children[0]),2)\n",
    "    f_child2=int(\"\".join(children[1]),2)\n",
    "    \n",
    "    #printing children and their fitness value\n",
    "    print(\"Child 1: \",\"\".join(children[0]),\"\\tFitness: \",f_child1)\n",
    "    print(\"Child 2: \",\"\".join(children[1]),\"\\tFitness: \",f_child2)\n",
    "    \n",
    "    #finding out which child is stronger to survive for next generation\n",
    "    \n",
    "    if(f_child1<f_child2):\n",
    "        print(\"\\nChild \",\"\".join(children[1]),\" survives to next generation\")\n",
    "    else:\n",
    "        print(\"\\nChild \",\"\".join(children[0]),\" survives to next generation \")"
   ]
  },
  {
   "cell_type": "code",
   "execution_count": 8,
   "id": "b91138a3",
   "metadata": {},
   "outputs": [],
   "source": [
    "def mutationEP():\n",
    "    #selecting parent using selRandom()\n",
    "    parent=tools.selection.selRandom(population,1)\n",
    "    print(\"Selected Indivisual: \",parent[0],\"\\tFitness:\",binary[population.index(parent[0])])\n",
    "    #converting string parent to list of characters because python strings are immutable\n",
    "    child_list=list(parent[0])\n",
    "    #selecting random mutation bit\n",
    "    mutate_bit=random.choice(range(1,7))\n",
    "    #mutation process\n",
    "    if child_list[mutate_bit]=='1':\n",
    "        child_list[mutate_bit]='0'\n",
    "    else:\n",
    "        child_list[mutate_bit]='1'\n",
    "        \n",
    "        #calculating the fitness value of child\n",
    "    child=int(\"\".join(child_list),2)\n",
    "    print(\"\\nMutated Child: \",\"\".join(child_list),\"\\tFitness: \",child,\"\\n\")\n",
    "    #finding if the child has evolved or not\n",
    "    \n",
    "    if(child<=binary[population.index(parent[0])]):\n",
    "        print(\"Child has not evolved\")\n",
    "    if(child>binary[population.index(parent[0])]):\n",
    "        print(\"Child has evolved\")"
   ]
  },
  {
   "cell_type": "code",
   "execution_count": null,
   "id": "3f1b6262",
   "metadata": {},
   "outputs": [
    {
     "name": "stdout",
     "output_type": "stream",
     "text": [
      "\n",
      "Please Enter Choice(or to Quit type exit)\n",
      "Crossover or Mutation:Crossover\n",
      "Selected Indivisuals\n",
      "Parent 1:  10111011 \tFitness: 187 \n",
      "Parent2:  10101010 \tFitness: 170 \n",
      "\n",
      "Child 1:  10111010 \tFitness:  186\n",
      "Child 2:  10101011 \tFitness:  171\n",
      "\n",
      "Child  10111010  survives to next generation \n",
      "\n",
      "Please Enter Choice(or to Quit type exit)\n",
      "Crossover or Mutation:mutation\n",
      "Selected Indivisual:  10101010 \tFitness: 170\n",
      "\n",
      "Mutated Child:  10100010 \tFitness:  162 \n",
      "\n",
      "Child has not evolved\n"
     ]
    }
   ],
   "source": [
    "while True:\n",
    "    evolution=input(\"\\nPlease Enter Choice(or to Quit type exit)\\nCrossover or Mutation:\").lower()\n",
    "    if evolution==\"crossover\":\n",
    "        crossoverEP()\n",
    "    elif evolution==\"mutation\":\n",
    "        mutationEP()\n",
    "    elif evolution==\"exit\":\n",
    "        break\n",
    "    else:\n",
    "        print(\"Please enter a valid choice\")"
   ]
  },
  {
   "cell_type": "code",
   "execution_count": null,
   "id": "f8d46373",
   "metadata": {},
   "outputs": [],
   "source": []
  }
 ],
 "metadata": {
  "kernelspec": {
   "display_name": "Python 3 (ipykernel)",
   "language": "python",
   "name": "python3"
  },
  "language_info": {
   "codemirror_mode": {
    "name": "ipython",
    "version": 3
   },
   "file_extension": ".py",
   "mimetype": "text/x-python",
   "name": "python",
   "nbconvert_exporter": "python",
   "pygments_lexer": "ipython3",
   "version": "3.9.7"
  }
 },
 "nbformat": 4,
 "nbformat_minor": 5
}

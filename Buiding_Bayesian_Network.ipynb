{
 "cells": [
  {
   "cell_type": "code",
   "execution_count": 1,
   "metadata": {},
   "outputs": [
    {
     "name": "stdout",
     "output_type": "stream",
     "text": [
      "Requirement already satisfied: pgmpy in c:\\anaconda3\\lib\\site-packages (0.1.20)\n",
      "Requirement already satisfied: pyparsing in c:\\anaconda3\\lib\\site-packages (from pgmpy) (2.3.1)\n",
      "Requirement already satisfied: pandas in c:\\anaconda3\\lib\\site-packages (from pgmpy) (1.3.5)\n",
      "Requirement already satisfied: scipy in c:\\anaconda3\\lib\\site-packages (from pgmpy) (1.7.3)\n",
      "Requirement already satisfied: opt-einsum in c:\\anaconda3\\lib\\site-packages (from pgmpy) (3.3.0)\n",
      "Requirement already satisfied: joblib in c:\\anaconda3\\lib\\site-packages (from pgmpy) (1.0.1)\n",
      "Requirement already satisfied: networkx in c:\\anaconda3\\lib\\site-packages (from pgmpy) (2.6.3)\n",
      "Requirement already satisfied: tqdm in c:\\anaconda3\\lib\\site-packages (from pgmpy) (4.62.3)\n",
      "Requirement already satisfied: scikit-learn in c:\\anaconda3\\lib\\site-packages (from pgmpy) (0.20.3)\n",
      "Requirement already satisfied: numpy in c:\\anaconda3\\lib\\site-packages (from pgmpy) (1.21.5)\n",
      "Requirement already satisfied: torch in c:\\anaconda3\\lib\\site-packages (from pgmpy) (1.13.0)\n",
      "Requirement already satisfied: statsmodels in c:\\anaconda3\\lib\\site-packages (from pgmpy) (0.13.2)\n",
      "Requirement already satisfied: python-dateutil>=2.7.3 in c:\\anaconda3\\lib\\site-packages (from pandas->pgmpy) (2.8.0)\n",
      "Requirement already satisfied: pytz>=2017.3 in c:\\anaconda3\\lib\\site-packages (from pandas->pgmpy) (2018.9)\n",
      "Requirement already satisfied: colorama; platform_system == \"Windows\" in c:\\anaconda3\\lib\\site-packages (from tqdm->pgmpy) (0.4.1)\n",
      "Requirement already satisfied: typing-extensions in c:\\anaconda3\\lib\\site-packages (from torch->pgmpy) (4.1.1)\n",
      "Requirement already satisfied: patsy>=0.5.2 in c:\\anaconda3\\lib\\site-packages (from statsmodels->pgmpy) (0.5.2)\n",
      "Requirement already satisfied: packaging>=21.3 in c:\\anaconda3\\lib\\site-packages (from statsmodels->pgmpy) (21.3)\n",
      "Requirement already satisfied: six>=1.5 in c:\\anaconda3\\lib\\site-packages (from python-dateutil>=2.7.3->pandas->pgmpy) (1.12.0)\n",
      "Note: you may need to restart the kernel to use updated packages.\n"
     ]
    }
   ],
   "source": [
    "pip install pgmpy"
   ]
  },
  {
   "cell_type": "code",
   "execution_count": 14,
   "metadata": {},
   "outputs": [
    {
     "name": "stdout",
     "output_type": "stream",
     "text": [
      "Sample instances from the dataset are given below\n",
      "   age  gender  cp  trestbps  chol  fbs  restecg  thalach  exang  oldpeak  \\\n",
      "0   63       1   1       145   233    1        2      150      0      2.3   \n",
      "1   67       1   4       160   286    0        2      108      1      1.5   \n",
      "2   67       1   4       120   229    0        2      129      1      2.6   \n",
      "3   37       1   3       130   250    0        0      187      0      3.5   \n",
      "4   41       0   2       130   204    0        2      172      0      1.4   \n",
      "\n",
      "   slope ca thal  heartdisease  \n",
      "0      3  0    6             0  \n",
      "1      2  3    3             2  \n",
      "2      2  2    7             1  \n",
      "3      3  0    3             0  \n",
      "4      1  0    3             0  \n",
      "\n",
      " Attributes and datatypes\n",
      "age               int64\n",
      "gender            int64\n",
      "cp                int64\n",
      "trestbps          int64\n",
      "chol              int64\n",
      "fbs               int64\n",
      "restecg           int64\n",
      "thalach           int64\n",
      "exang             int64\n",
      "oldpeak         float64\n",
      "slope             int64\n",
      "ca               object\n",
      "thal             object\n",
      "heartdisease      int64\n",
      "dtype: object\n",
      "\n",
      "Learning CPD using Maximum likelihood estimators\n",
      "\n",
      " Inferencing with Bayesian Network:\n",
      "\n",
      "1. Probability of HeartDisease given evidence=restecg\n",
      "+-----------------+---------------------+\n",
      "| heartdisease    |   phi(heartdisease) |\n",
      "+=================+=====================+\n",
      "| heartdisease(0) |              0.1386 |\n",
      "+-----------------+---------------------+\n",
      "| heartdisease(1) |              0.0000 |\n",
      "+-----------------+---------------------+\n",
      "| heartdisease(2) |              0.2427 |\n",
      "+-----------------+---------------------+\n",
      "| heartdisease(3) |              0.2179 |\n",
      "+-----------------+---------------------+\n",
      "| heartdisease(4) |              0.4008 |\n",
      "+-----------------+---------------------+\n",
      "\n",
      "2. Probability of HeartDisease given evidence=cp\n",
      "+-----------------+---------------------+\n",
      "| heartdisease    |   phi(heartdisease) |\n",
      "+=================+=====================+\n",
      "| heartdisease(0) |              0.4307 |\n",
      "+-----------------+---------------------+\n",
      "| heartdisease(1) |              0.1960 |\n",
      "+-----------------+---------------------+\n",
      "| heartdisease(2) |              0.1186 |\n",
      "+-----------------+---------------------+\n",
      "| heartdisease(3) |              0.1438 |\n",
      "+-----------------+---------------------+\n",
      "| heartdisease(4) |              0.1109 |\n",
      "+-----------------+---------------------+\n"
     ]
    },
    {
     "name": "stderr",
     "output_type": "stream",
     "text": [
      "C:\\Anaconda3\\lib\\site-packages\\pgmpy\\models\\BayesianModel.py:10: FutureWarning: BayesianModel has been renamed to BayesianNetwork. Please use BayesianNetwork class, BayesianModel will be removed in future.\n",
      "  FutureWarning,\n"
     ]
    }
   ],
   "source": [
    "import numpy as np\n",
    "import pandas as pd\n",
    "import csv\n",
    "from pgmpy.estimators import MaximumLikelihoodEstimator\n",
    "from pgmpy.models import BayesianModel\n",
    "from pgmpy.inference import VariableElimination\n",
    "\n",
    "heartDisease = pd.read_csv('heart (1).csv')\n",
    "heartDisease = heartDisease.replace('?',np.nan)\n",
    "\n",
    "print('Sample instances from the dataset are given below')\n",
    "print(heartDisease.head())\n",
    "\n",
    "print('\\n Attributes and datatypes')\n",
    "print(heartDisease.dtypes)\n",
    "\n",
    "model= BayesianModel([('age','heartdisease'),('exang','heartdisease'),('cp','heartdisease'),('heartdisease','restecg'),('heartdisease','chol')])\n",
    "print('\\nLearning CPD using Maximum likelihood estimators')\n",
    "model.fit(heartDisease,estimator=MaximumLikelihoodEstimator)\n",
    "\n",
    "print('\\n Inferencing with Bayesian Network:')\n",
    "HeartDiseasetest_infer = VariableElimination(model)\n",
    "\n",
    "print('\\n1. Probability of HeartDisease given evidence=restecg')\n",
    "q1=HeartDiseasetest_infer.query(variables=['heartdisease'],evidence={'restecg':1})\n",
    "print(q1)\n",
    "\n",
    "\n",
    "print('\\n2. Probability of HeartDisease given evidence=cp')\n",
    "q2=HeartDiseasetest_infer.query(variables=['heartdisease'],evidence={'cp':2})\n",
    "print(q2)\n"
   ]
  },
  {
   "cell_type": "code",
   "execution_count": null,
   "metadata": {},
   "outputs": [],
   "source": []
  }
 ],
 "metadata": {
  "kernelspec": {
   "display_name": "Python 3",
   "language": "python",
   "name": "python3"
  },
  "language_info": {
   "codemirror_mode": {
    "name": "ipython",
    "version": 3
   },
   "file_extension": ".py",
   "mimetype": "text/x-python",
   "name": "python",
   "nbconvert_exporter": "python",
   "pygments_lexer": "ipython3",
   "version": "3.7.3"
  }
 },
 "nbformat": 4,
 "nbformat_minor": 2
}
